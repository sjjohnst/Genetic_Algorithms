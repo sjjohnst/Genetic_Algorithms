{
 "cells": [
  {
   "cell_type": "code",
   "execution_count": 1,
   "id": "d9991913",
   "metadata": {},
   "outputs": [
    {
     "data": {
      "text/plain": [
       "array([[1., 1., 0., 0., 0.],\n",
       "       [1., 1., 1., 0., 0.],\n",
       "       [0., 1., 1., 1., 1.],\n",
       "       [0., 0., 1., 1., 0.],\n",
       "       [0., 0., 1., 0., 1.]])"
      ]
     },
     "execution_count": 1,
     "metadata": {},
     "output_type": "execute_result"
    }
   ],
   "source": [
    "import numpy as np\n",
    "\n",
    "V = 5\n",
    "\n",
    "# Create adjacency list\n",
    "Adj = [[] for i in range(V)]\n",
    "\n",
    "# Function to insert vertices\n",
    "# to adjacency list\n",
    "def insert(adj, u, v):\n",
    " \n",
    "    # Insert a vertex v to vertex u\n",
    "    adj[u].append(v)\n",
    "    return"
   ]
  },
  {
   "cell_type": "code",
   "execution_count": null,
   "id": "3ef31008",
   "metadata": {},
   "outputs": [],
   "source": [
    "# Function to convert adjacency\n",
    "# list to adjacency matrix\n",
    "def convert(adj, V):\n",
    " \n",
    "    # Initialize a matrix\n",
    "    matrix = [[0 for j in range(V)]\n",
    "                 for i in range(V)]\n",
    "     \n",
    "    for i in range(V):\n",
    "        for j in adj[i]:\n",
    "            matrix[i][j] = 1\n",
    "     \n",
    "    return matrix\n",
    "\n",
    "A = convert(Adj, V)\n",
    "\n",
    "B = A + np.identity(V)\n",
    "\n",
    "B"
   ]
  },
  {
   "cell_type": "code",
   "execution_count": 4,
   "id": "aeaa1483",
   "metadata": {},
   "outputs": [
    {
     "data": {
      "image/png": "[encoded data removed]",
      "text/plain": [
       "<Figure size 432x288 with 1 Axes>"
      ]
     },
     "metadata": {},
     "output_type": "display_data"
    }
   ],
   "source": [
    "import networkx as nx\n",
    "import matplotlib.pyplot as plt\n",
    "%matplotlib inline\n",
    "\n",
    "def show_graph(adjacency_matrix):\n",
    "    rows, cols = np.where(adjacency_matrix == 1)\n",
    "    edges = zip(rows.tolist(), cols.tolist())\n",
    "    gr = nx.Graph()\n",
    "    gr.add_edges_from(edges)\n",
    "    nx.draw(gr, node_size=500)\n",
    "    plt.show()\n",
    "    \n",
    "show_graph(A)"
   ]
  },
  {
   "cell_type": "code",
   "execution_count": 5,
   "id": "a3979129",
   "metadata": {},
   "outputs": [],
   "source": [
    "d = 10\n",
    "dout = 3\n",
    "\n",
    "# Feature matrix X\n",
    "X = np.random.randn(n,d)\n",
    "\n",
    "# Weight matrix W\n",
    "W = np.random.rand(d,dout)"
   ]
  },
  {
   "cell_type": "code",
   "execution_count": 7,
   "id": "6d68edaf",
   "metadata": {},
   "outputs": [
    {
     "name": "stdout",
     "output_type": "stream",
     "text": [
      "[[-1.93388101 -2.3935232  -5.43305398]\n",
      " [-1.18591783 -3.39645337 -6.19017059]\n",
      " [ 3.1793164  -2.82735325 -3.88300435]\n",
      " [ 1.06165555 -1.7891424  -2.69850722]\n",
      " [ 3.52997543 -0.3773701   0.87737495]] \n",
      "\n",
      "[[6.01781781e-01 3.80030948e-01 1.81872703e-02]\n",
      " [8.95775397e-01 9.82145299e-02 6.01007328e-03]\n",
      " [9.96691918e-01 2.45412936e-03 8.53953074e-04]\n",
      " [9.25002523e-01 5.34634643e-02 2.15340131e-02]\n",
      " [9.16958838e-01 1.84251587e-02 6.46160032e-02]]\n"
     ]
    }
   ],
   "source": [
    "# Ouput from 1st pass of GNN\n",
    "Y = np.matmul(B,np.matmul(X,W))\n",
    "\n",
    "# Add activation function\n",
    "# Softmax, each row sums to 1\n",
    "def softmax(X):\n",
    "    expo = np.exp(X)\n",
    "    expo_sum = np.sum(np.exp(X), axis=1)\n",
    "    return expo / expo_sum[:,None]\n",
    "\n",
    "out = softmax(Y)\n",
    "\n",
    "\n",
    "print(Y, '\\n')\n",
    "print(out)"
   ]
  },
  {
   "cell_type": "code",
   "execution_count": null,
   "id": "254492e6",
   "metadata": {},
   "outputs": [],
   "source": []
  }
 ],
 "metadata": {
  "kernelspec": {
   "display_name": "base",
   "language": "python",
   "name": "base"
  },
  "language_info": {
   "codemirror_mode": {
    "name": "ipython",
    "version": 3
   },
   "file_extension": ".py",
   "mimetype": "text/x-python",
   "name": "python",
   "nbconvert_exporter": "python",
   "pygments_lexer": "ipython3",
   "version": "3.8.5"
  }
 },
 "nbformat": 4,
 "nbformat_minor": 5
}
