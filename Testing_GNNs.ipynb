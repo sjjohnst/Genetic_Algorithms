{
 "cells": [
  {
   "cell_type": "code",
   "execution_count": 1,
   "id": "478488ba",
   "metadata": {},
   "outputs": [
    {
     "name": "stdout",
     "output_type": "stream",
     "text": [
      "[[1], [0, 2], [1, 4], [], [2]]\n"
     ]
    }
   ],
   "source": [
    "import numpy as np\n",
    "\n",
    "V = 5\n",
    "\n",
    "# Create adjacency list\n",
    "Adj = [[] for i in range(V)]\n",
    "\n",
    "# Function to insert vertices\n",
    "# to adjacency list\n",
    "def insert(adj, u, v):\n",
    " \n",
    "    # Insert a vertex v to vertex u\n",
    "    adj[u].append(v)\n",
    "    return\n",
    "\n",
    "insert(Adj, 0, 1)\n",
    "insert(Adj, 1, 0)\n",
    "insert(Adj, 1, 2)\n",
    "insert(Adj, 2, 1)\n",
    "insert(Adj, 2, 4)\n",
    "insert(Adj, 4, 2)\n",
    "\n",
    "print(Adj)"
   ]
  },
  {
   "cell_type": "code",
   "execution_count": 2,
   "id": "d0511011",
   "metadata": {},
   "outputs": [
    {
     "data": {
      "text/plain": [
       "array([[1., 1., 0., 0., 0.],\n",
       "       [1., 1., 1., 0., 0.],\n",
       "       [0., 1., 1., 0., 1.],\n",
       "       [0., 0., 0., 1., 0.],\n",
       "       [0., 0., 1., 0., 1.]])"
      ]
     },
     "execution_count": 2,
     "metadata": {},
     "output_type": "execute_result"
    }
   ],
   "source": [
    "# Function to convert adjacency\n",
    "# list to adjacency matrix\n",
    "def convert(adj, V):\n",
    " \n",
    "    # Initialize a matrix\n",
    "    matrix = [[0 for j in range(V)]\n",
    "                 for i in range(V)]\n",
    "     \n",
    "    for i in range(V):\n",
    "        for j in adj[i]:\n",
    "            matrix[i][j] = 1\n",
    "     \n",
    "    return matrix\n",
    "\n",
    "# Convert Adj to adjacency matrix\n",
    "A = convert(Adj, V)\n",
    "\n",
    "# Add self-connections by adding the identity\n",
    "B = A + np.identity(V)\n",
    "\n",
    "B"
   ]
  },
  {
   "cell_type": "code",
   "execution_count": 3,
   "id": "31f7473f",
   "metadata": {},
   "outputs": [
    {
     "data": {
      "image/png": "[encoded data removed]",
      "text/plain": [
       "<Figure size 432x288 with 1 Axes>"
      ]
     },
     "metadata": {},
     "output_type": "display_data"
    }
   ],
   "source": [
    "import networkx as nx\n",
    "import matplotlib.pyplot as plt\n",
    "%matplotlib inline\n",
    "\n",
    "def show_graph(adjacency_matrix):\n",
    "    rows, cols = np.where(adjacency_matrix == 1)\n",
    "    edges = zip(rows.tolist(), cols.tolist())\n",
    "    gr = nx.Graph()\n",
    "    gr.add_edges_from(edges)\n",
    "    nx.draw(gr, node_size=500)\n",
    "    plt.show()\n",
    "    \n",
    "show_graph(np.asarray(A))"
   ]
  },
  {
   "cell_type": "code",
   "execution_count": 15,
   "id": "0c0b010a",
   "metadata": {},
   "outputs": [],
   "source": [
    "d = 10\n",
    "dout = 3\n",
    "\n",
    "# Feature matrix X\n",
    "X = np.random.randn(n,d)\n",
    "\n",
    "# Weight matrix W\n",
    "W = np.random.rand(d,dout)"
   ]
  },
  {
   "cell_type": "code",
   "execution_count": 16,
   "id": "0916ce38",
   "metadata": {},
   "outputs": [
    {
     "name": "stdout",
     "output_type": "stream",
     "text": [
      "[[-0.2904372   2.22711571  0.07970867]\n",
      " [-2.2651525   1.15704332 -0.77378928]\n",
      " [ 2.05774019  2.98972362  1.55523772]\n",
      " [ 0.25561552 -0.380385    0.51285224]\n",
      " [ 0.42493671  1.37448709  0.68319345]] \n",
      "\n",
      "[[0.06735746 0.83511259 0.09752995]\n",
      " [0.02771637 0.84913569 0.12314794]\n",
      " [0.24128037 0.61274144 0.14597818]\n",
      " [0.35426361 0.18754912 0.45818728]\n",
      " [0.20495085 0.52970518 0.26534396]]\n"
     ]
    }
   ],
   "source": [
    "# Ouput from 1st pass of GNN\n",
    "Y = np.matmul(B,np.matmul(X,W))\n",
    "\n",
    "# Add activation function\n",
    "# Softmax, each row sums to 1\n",
    "def softmax(X):\n",
    "    expo = np.exp(X)\n",
    "    expo_sum = np.sum(np.exp(X), axis=1)\n",
    "    return expo / expo_sum[:,None]\n",
    "\n",
    "out = softmax(Y)\n",
    "\n",
    "print(Y, '\\n')\n",
    "print(out)"
   ]
  },
  {
   "cell_type": "code",
   "execution_count": 20,
   "id": "ecec719e",
   "metadata": {},
   "outputs": [
    {
     "name": "stdout",
     "output_type": "stream",
     "text": [
      "[[1. 0. 0.]\n",
      " [0. 1. 0.]\n",
      " [1. 0. 0.]\n",
      " [1. 0. 0.]\n",
      " [0. 1. 0.]]\n"
     ]
    }
   ],
   "source": [
    "choices = np.zeros_like(out)\n",
    "\n",
    "for i in range(V):\n",
    "    k = np.random.choice(dout, p=out[i])\n",
    "    choices[i,k] = 1\n",
    "\n",
    "print(choices)"
   ]
  },
  {
   "cell_type": "code",
   "execution_count": null,
   "id": "ed788e8a",
   "metadata": {},
   "outputs": [],
   "source": []
  }
 ],
 "metadata": {
  "kernelspec": {
   "display_name": "base",
   "language": "python",
   "name": "base"
  },
  "language_info": {
   "codemirror_mode": {
    "name": "ipython",
    "version": 3
   },
   "file_extension": ".py",
   "mimetype": "text/x-python",
   "name": "python",
   "nbconvert_exporter": "python",
   "pygments_lexer": "ipython3",
   "version": "3.8.5"
  }
 },
 "nbformat": 4,
 "nbformat_minor": 5
}
